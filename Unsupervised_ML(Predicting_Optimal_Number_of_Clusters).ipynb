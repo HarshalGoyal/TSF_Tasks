{
  "nbformat": 4,
  "nbformat_minor": 0,
  "metadata": {
    "colab": {
      "name": "Unsupervised_ML(Predicting Optimal Number of Clusters).ipynb",
      "provenance": [],
      "authorship_tag": "ABX9TyNVh7RkImvE58gq95uutGJ+",
      "include_colab_link": true
    },
    "kernelspec": {
      "name": "python3",
      "display_name": "Python 3"
    },
    "language_info": {
      "name": "python"
    }
  },
  "cells": [
    {
      "cell_type": "markdown",
      "metadata": {
        "id": "view-in-github",
        "colab_type": "text"
      },
      "source": [
        "<a href=\"https://colab.research.google.com/github/HarshalGoyal/TSF_Tasks/blob/main/Unsupervised_ML(Predicting_Optimal_Number_of_Clusters).ipynb\" target=\"_parent\"><img src=\"https://colab.research.google.com/assets/colab-badge.svg\" alt=\"Open In Colab\"/></a>"
      ]
    },
    {
      "cell_type": "markdown",
      "metadata": {
        "id": "v-AWoO9kdh25"
      },
      "source": [
        "#Task 2\n",
        "\n",
        "Author : Harshal Goyal\n",
        "\n",
        "Date : 5th July 2021"
      ]
    },
    {
      "cell_type": "markdown",
      "metadata": {
        "id": "_iCGwhgmdn6z"
      },
      "source": [
        "#Importing Necessary Modules and Dataset"
      ]
    },
    {
      "cell_type": "code",
      "metadata": {
        "id": "rZN8nu0yagj4"
      },
      "source": [
        "import pandas as pd \n",
        "import numpy as np\n",
        "import matplotlib.pyplot as plt\n",
        "\n",
        "from sklearn import datasets\n",
        "from sklearn.cluster import KMeans"
      ],
      "execution_count": 24,
      "outputs": []
    },
    {
      "cell_type": "markdown",
      "metadata": {
        "id": "lgolo6ENdyVk"
      },
      "source": [
        "#Loading The Iris Dataset"
      ]
    },
    {
      "cell_type": "code",
      "metadata": {
        "id": "vcFWLrsbbP3u"
      },
      "source": [
        "iris = datasets.load_iris()\n",
        "iris_df = pd.DataFrame(iris.data, columns = iris.feature_names)"
      ],
      "execution_count": 25,
      "outputs": []
    },
    {
      "cell_type": "markdown",
      "metadata": {
        "id": "ldHmHKPMe3xW"
      },
      "source": [
        "#Visualising the dataset"
      ]
    },
    {
      "cell_type": "code",
      "metadata": {
        "colab": {
          "base_uri": "https://localhost:8080/",
          "height": 203
        },
        "id": "PrBfjCL0e7Cl",
        "outputId": "7f8d37b4-4857-4375-c1ed-82bf2569ab3a"
      },
      "source": [
        "iris_df.head()"
      ],
      "execution_count": 26,
      "outputs": [
        {
          "output_type": "execute_result",
          "data": {
            "text/html": [
              "<div>\n",
              "<style scoped>\n",
              "    .dataframe tbody tr th:only-of-type {\n",
              "        vertical-align: middle;\n",
              "    }\n",
              "\n",
              "    .dataframe tbody tr th {\n",
              "        vertical-align: top;\n",
              "    }\n",
              "\n",
              "    .dataframe thead th {\n",
              "        text-align: right;\n",
              "    }\n",
              "</style>\n",
              "<table border=\"1\" class=\"dataframe\">\n",
              "  <thead>\n",
              "    <tr style=\"text-align: right;\">\n",
              "      <th></th>\n",
              "      <th>sepal length (cm)</th>\n",
              "      <th>sepal width (cm)</th>\n",
              "      <th>petal length (cm)</th>\n",
              "      <th>petal width (cm)</th>\n",
              "    </tr>\n",
              "  </thead>\n",
              "  <tbody>\n",
              "    <tr>\n",
              "      <th>0</th>\n",
              "      <td>5.1</td>\n",
              "      <td>3.5</td>\n",
              "      <td>1.4</td>\n",
              "      <td>0.2</td>\n",
              "    </tr>\n",
              "    <tr>\n",
              "      <th>1</th>\n",
              "      <td>4.9</td>\n",
              "      <td>3.0</td>\n",
              "      <td>1.4</td>\n",
              "      <td>0.2</td>\n",
              "    </tr>\n",
              "    <tr>\n",
              "      <th>2</th>\n",
              "      <td>4.7</td>\n",
              "      <td>3.2</td>\n",
              "      <td>1.3</td>\n",
              "      <td>0.2</td>\n",
              "    </tr>\n",
              "    <tr>\n",
              "      <th>3</th>\n",
              "      <td>4.6</td>\n",
              "      <td>3.1</td>\n",
              "      <td>1.5</td>\n",
              "      <td>0.2</td>\n",
              "    </tr>\n",
              "    <tr>\n",
              "      <th>4</th>\n",
              "      <td>5.0</td>\n",
              "      <td>3.6</td>\n",
              "      <td>1.4</td>\n",
              "      <td>0.2</td>\n",
              "    </tr>\n",
              "  </tbody>\n",
              "</table>\n",
              "</div>"
            ],
            "text/plain": [
              "   sepal length (cm)  sepal width (cm)  petal length (cm)  petal width (cm)\n",
              "0                5.1               3.5                1.4               0.2\n",
              "1                4.9               3.0                1.4               0.2\n",
              "2                4.7               3.2                1.3               0.2\n",
              "3                4.6               3.1                1.5               0.2\n",
              "4                5.0               3.6                1.4               0.2"
            ]
          },
          "metadata": {
            "tags": []
          },
          "execution_count": 26
        }
      ]
    },
    {
      "cell_type": "markdown",
      "metadata": {
        "id": "fBnH-yU-d4FI"
      },
      "source": [
        "#Checking for any possible Empty Columns"
      ]
    },
    {
      "cell_type": "code",
      "metadata": {
        "colab": {
          "base_uri": "https://localhost:8080/"
        },
        "id": "VBTE6-zaczfF",
        "outputId": "8d322372-f20e-458c-def5-b7604c9a6bf1"
      },
      "source": [
        "iris_df.isna().sum()"
      ],
      "execution_count": 27,
      "outputs": [
        {
          "output_type": "execute_result",
          "data": {
            "text/plain": [
              "sepal length (cm)    0\n",
              "sepal width (cm)     0\n",
              "petal length (cm)    0\n",
              "petal width (cm)     0\n",
              "dtype: int64"
            ]
          },
          "metadata": {
            "tags": []
          },
          "execution_count": 27
        }
      ]
    },
    {
      "cell_type": "markdown",
      "metadata": {
        "id": "hgbBwJK0d7z9"
      },
      "source": [
        "#Assigning The features/parameters to variable x"
      ]
    },
    {
      "cell_type": "code",
      "metadata": {
        "id": "e266s0hqbY_h"
      },
      "source": [
        "x = iris_df.values"
      ],
      "execution_count": 28,
      "outputs": []
    },
    {
      "cell_type": "markdown",
      "metadata": {
        "id": "s_CTLNWveHco"
      },
      "source": [
        "#Finding The optimal cluster value using Elbow method"
      ]
    },
    {
      "cell_type": "code",
      "metadata": {
        "colab": {
          "base_uri": "https://localhost:8080/",
          "height": 295
        },
        "id": "kiNY83zKbh9n",
        "outputId": "88a54544-584a-4615-bb9b-1c11cad7bc78"
      },
      "source": [
        "sse = []\n",
        "\n",
        "for i in range(1, 11):\n",
        "    kmeans = KMeans(n_clusters = i, init = 'k-means++', \n",
        "                    max_iter = 300, n_init = 10, random_state = 0)\n",
        "    kmeans.fit(x)\n",
        "    sse.append(kmeans.inertia_)\n",
        "    \n",
        "# Plotting the results onto a line graph, \n",
        "# allowing us to observe the number for which error is minimum\n",
        "plt.plot(range(1, 11), sse)\n",
        "plt.title('The elbow method')\n",
        "plt.xlabel('Number of clusters')\n",
        "plt.ylabel('sse') # Within cluster sum of squares\n",
        "plt.show()"
      ],
      "execution_count": 29,
      "outputs": [
        {
          "output_type": "display_data",
          "data": {
            "image/png": "[encoded data removed]",
            "text/plain": [
              "<Figure size 432x288 with 1 Axes>"
            ]
          },
          "metadata": {
            "tags": [],
            "needs_background": "light"
          }
        }
      ]
    },
    {
      "cell_type": "markdown",
      "metadata": {
        "id": "QAvDgu56eTM9"
      },
      "source": [
        "#Training the Model and collecting Predictions."
      ]
    },
    {
      "cell_type": "code",
      "metadata": {
        "id": "DUWk6x5Qbkoq"
      },
      "source": [
        "\n",
        "kmeans = KMeans(n_clusters = 3, init = 'k-means++',\n",
        "                max_iter = 300, n_init = 10, random_state = 0)\n",
        "y_kmeans = kmeans.fit_predict(x)"
      ],
      "execution_count": 30,
      "outputs": []
    },
    {
      "cell_type": "markdown",
      "metadata": {
        "id": "VPknYiXzebzY"
      },
      "source": [
        "#Plotting the obtained cluster perdictions on a scatter plot for Visualisation."
      ]
    },
    {
      "cell_type": "code",
      "metadata": {
        "colab": {
          "base_uri": "https://localhost:8080/",
          "height": 281
        },
        "id": "MMtWLKqIcS7M",
        "outputId": "65cf30be-4ca8-4d69-9beb-d7de8b933090"
      },
      "source": [
        "for i in range(0, len(x)):\n",
        "    if y_kmeans[i] == 0:\n",
        "        c1 = plt.scatter(x[i,0],x[i,1],c='r',\n",
        "                marker='+')\n",
        "    elif y_kmeans[i] == 1:\n",
        "        c2 = plt.scatter(x[i,0],x[i,1],c='g',\n",
        "                        marker='o')\n",
        "    elif y_kmeans[i] == 2:\n",
        "        c3 = plt.scatter(x[i,0],x[i,1],c='b',\n",
        "                            marker='*')\n",
        "c4 = plt.scatter(kmeans.cluster_centers_[:, 0], kmeans.cluster_centers_[:,1], \n",
        "            s = 100, c = 'orange', marker= 'p')\n",
        "plt.legend([c1, c2, c3,c4], ['Setosa', 'Versicolor',\n",
        "    'Virginica','Centroids'])\n",
        "\n",
        "plt.title('Iris dataset with 3 clusters and known outcomes')\n",
        "plt.show()"
      ],
      "execution_count": 31,
      "outputs": [
        {
          "output_type": "display_data",
          "data": {
            "image/png": "[encoded data removed]",
            "text/plain": [
              "<Figure size 432x288 with 1 Axes>"
            ]
          },
          "metadata": {
            "tags": [],
            "needs_background": "light"
          }
        }
      ]
    }
  ]
}